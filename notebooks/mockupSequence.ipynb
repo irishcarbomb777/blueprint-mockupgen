{
 "metadata": {
  "language_info": {
   "codemirror_mode": {
    "name": "ipython",
    "version": 3
   },
   "file_extension": ".py",
   "mimetype": "text/x-python",
   "name": "python",
   "nbconvert_exporter": "python",
   "pygments_lexer": "ipython3",
   "version": "3.8.5-final"
  },
  "orig_nbformat": 2,
  "kernelspec": {
   "name": "python3",
   "display_name": "Python 3.8.5 64-bit ('venv')",
   "metadata": {
    "interpreter": {
     "hash": "ee4fe5f78abc6f0c4503686ee38be26091259e3a54935e5370b464d6651bcac3"
    }
   }
  }
 },
 "nbformat": 4,
 "nbformat_minor": 2,
 "cells": [
  {
   "cell_type": "code",
   "execution_count": 8,
   "metadata": {},
   "outputs": [
    {
     "output_type": "stream",
     "name": "stdout",
     "text": [
      "The autoreload extension is already loaded. To reload it, use:\n  %reload_ext autoreload\n"
     ]
    }
   ],
   "source": [
    "%load_ext autoreload\n"
   ]
  },
  {
   "cell_type": "code",
   "execution_count": 9,
   "metadata": {},
   "outputs": [],
   "source": [
    "import sys\n",
    "sys.path.append('../')\n",
    "%autoreload 2\n",
    "%matplotlib widget\n",
    "import cv2\n",
    "import numpy as np\n",
    "import matplotlib.pyplot as plt\n",
    "import pandas as pd\n",
    "import copy\n",
    "from src import image\n",
    "import json\n",
    "import requests\n",
    "import imutils"
   ]
  },
  {
   "cell_type": "code",
   "execution_count": 11,
   "metadata": {},
   "outputs": [
    {
     "output_type": "display_data",
     "data": {
      "text/plain": "Canvas(toolbar=Toolbar(toolitems=[('Home', 'Reset original view', 'home', 'home'), ('Back', 'Back to previous …",
      "application/vnd.jupyter.widget-view+json": {
       "version_major": 2,
       "version_minor": 0,
       "model_id": "b4692fc5328f4e518e96ef35e2f39910"
      }
     },
     "metadata": {}
    },
    {
     "output_type": "display_data",
     "data": {
      "text/plain": "Canvas(toolbar=Toolbar(toolitems=[('Home', 'Reset original view', 'home', 'home'), ('Back', 'Back to previous …",
      "application/vnd.jupyter.widget-view+json": {
       "version_major": 2,
       "version_minor": 0,
       "model_id": "c99a0a0d33594871b7d0db1285ff1d30"
      }
     },
     "metadata": {}
    },
    {
     "output_type": "display_data",
     "data": {
      "text/plain": "Canvas(toolbar=Toolbar(toolitems=[('Home', 'Reset original view', 'home', 'home'), ('Back', 'Back to previous …",
      "application/vnd.jupyter.widget-view+json": {
       "version_major": 2,
       "version_minor": 0,
       "model_id": "e24f1624a9e84e9583c820ecbe1cacb9"
      }
     },
     "metadata": {}
    },
    {
     "output_type": "stream",
     "name": "stdout",
     "text": [
      "----------------------\n---- Masked Image ----\n----------------------\nHeight            : 1250\nWidth             : 1000\nColor Channels    : 4\nColor Space       : RGBA\n\n----------------------\n---- Masked Image ----\n----------------------\nHeight            : 1250\nWidth             : 1000\nColor Channels    : 4\nColor Space       : BGRA\n\n"
     ]
    },
    {
     "output_type": "display_data",
     "data": {
      "text/plain": "Canvas(toolbar=Toolbar(toolitems=[('Home', 'Reset original view', 'home', 'home'), ('Back', 'Back to previous …",
      "application/vnd.jupyter.widget-view+json": {
       "version_major": 2,
       "version_minor": 0,
       "model_id": "a7f7c0e96aac4e8db2b0aa958c656b4f"
      }
     },
     "metadata": {}
    },
    {
     "output_type": "display_data",
     "data": {
      "text/plain": "Canvas(toolbar=Toolbar(toolitems=[('Home', 'Reset original view', 'home', 'home'), ('Back', 'Back to previous …",
      "application/vnd.jupyter.widget-view+json": {
       "version_major": 2,
       "version_minor": 0,
       "model_id": "9e61e1574e984895a122482beed00106"
      }
     },
     "metadata": {}
    },
    {
     "output_type": "display_data",
     "data": {
      "text/plain": "Canvas(toolbar=Toolbar(toolitems=[('Home', 'Reset original view', 'home', 'home'), ('Back', 'Back to previous …",
      "application/vnd.jupyter.widget-view+json": {
       "version_major": 2,
       "version_minor": 0,
       "model_id": "64abc5e6679e49b0acb3c071b00e1dec"
      }
     },
     "metadata": {}
    },
    {
     "output_type": "execute_result",
     "data": {
      "text/plain": [
       "True"
      ]
     },
     "metadata": {},
     "execution_count": 11
    }
   ],
   "source": [
    "logo = image.Image.from_file('LogoColor_Audley.png', 'MainLogo', color_model='unchanged')\n",
    "logo.image = imutils.rotate_bound(logo.image, 30)\n",
    "logo.resize(new_w=138)\n",
    "logo_nd = logo.duplicate('Logo Mask').image\n",
    "logo_mask = logo_nd[:,:,3]  # Create transparency mask\n",
    "logo_mask = image.Image(logo_mask, 'Logo Mask')\n",
    "logo_mask.im_show()\n",
    "logo_mask_nd = logo_mask.image\n",
    "logo_mask_nd[logo_mask_nd > 0] = 1\n",
    "\n",
    "sys.path.append('../productimages')\n",
    "prod_image_path = '../productimages/tradepackage/hoodie/front/gildan_18500_black_front.png'\n",
    "prod_image = image.Image.from_file(prod_image_path, 'Product Image Blank', color_model='unchanged')\n",
    "prod_image.im_show()\n",
    "prod_image_nd = prod_image.image\n",
    "\n",
    "logo_loc = (370,584)\n",
    "full_mask_nd = np.zeros( (prod_image.image.shape[0], prod_image.image.shape[1]) )\n",
    "full_mask_nd[ logo_loc[0]:logo_loc[0]+logo_mask_nd.shape[0], logo_loc[1]:logo_loc[1]+logo_mask_nd.shape[1] ] += logo_mask_nd\n",
    "\n",
    "full_mask = image.Image(full_mask_nd, 'Full Mask Image')\n",
    "full_mask.image[full_mask.image>0] = 255\n",
    "full_mask.im_show()\n",
    "\n",
    "prod_image_nd[full_mask_nd > 0] = [0,0,0,0]\n",
    "prod_image_masked = image.Image(prod_image_nd, 'Masked Image')\n",
    "prod_image_masked.print_info()\n",
    "prod_image_masked.color_space = 'BGRA'\n",
    "prod_image_masked.print_info()\n",
    "prod_image_masked.cvt_color(color='rgba')\n",
    "prod_image_masked.im_show()\n",
    "\n",
    "color_logo = image.Image.from_file('LogoColor_Audley.png', 'Color Logo', color_model='unchanged')\n",
    "color_logo.im_show()\n",
    "# color_logo.cvt_color(color='RGBA')\n",
    "# logo.resize(new_w=138)\n",
    "logo.image[logo.image[:,:,3]<130] = [0,0,0,0]\n",
    "prod_image_nd[ logo_loc[0]:logo_loc[0]+logo_mask_nd.shape[0], logo_loc[1]:logo_loc[1]+logo_mask_nd.shape[1] ] += logo.image\n",
    "\n",
    "color_mockup = image.Image(prod_image_nd, 'Colored Mockup')\n",
    "color_mockup.color_space = 'BGRA'\n",
    "color_mockup.cvt_color(color='rgba')\n",
    "color_mockup.im_show()\n",
    "\n",
    "color_mockup_output = image.Image(color_mockup.image, 'Color Mockup Output')\n",
    "cv2.imwrite('outputImage.png', color_mockup_output.image) \n",
    "\n",
    "\n",
    "\n",
    "\n"
   ]
  },
  {
   "cell_type": "code",
   "execution_count": 4,
   "metadata": {},
   "outputs": [
    {
     "output_type": "stream",
     "name": "stdout",
     "text": [
      "{'tshirts': [{'filePath': '../productimages/tradepackage/tshirt/front/jerzees_29mr_black_front.png', 'position': [287, 547], 'width': 135}, {'filePath': '../productimages/tradepackage/tshirt/front/jerzees_29mr_black_front.png', 'position': [264, 324], 'width': 345}, {'filepath': '../productimages/tradepackage/tshirt/back/jerzees_29mr_black_back.png', 'position': [204, 304], 'width': 385}]}\n../productimages/tradepackage/tshirt/front/jerzees_29mr_black_front.png\n"
     ]
    }
   ],
   "source": [
    "with open('trades.json') as f:\n",
    "    data = json.load(f)\n",
    "print(data)\n",
    "print(data['tshirts'][0]['filePath'])"
   ]
  },
  {
   "cell_type": "code",
   "execution_count": 5,
   "metadata": {},
   "outputs": [
    {
     "output_type": "display_data",
     "data": {
      "text/plain": "Canvas(toolbar=Toolbar(toolitems=[('Home', 'Reset original view', 'home', 'home'), ('Back', 'Back to previous …",
      "application/vnd.jupyter.widget-view+json": {
       "version_major": 2,
       "version_minor": 0,
       "model_id": "9b0222f2c5e945398f54ca8dd9433357"
      }
     },
     "metadata": {}
    }
   ],
   "source": [
    "username = '493639'\n",
    "password = 'ade20a10-7d2d-4003-a296-e8d4939a70c5'\n",
    "response = requests.get(\"https://api.ssactivewear.com/v2/products/B00760003?fields=Sku,Gtin,Qty,CustomerPrice\", auth=(username, password))\n",
    "response2 = requests.get(\"https://api.ssactivewear.com/v2/styles?search=Gildan 5000\", auth=(username, password))\n",
    "\n",
    "response3 = requests.get(\"https://api.ssactivewear.com/v2/products/?style=00760,Gildan 5000\", auth=(username, password))\n",
    "\n",
    "response4 = requests.get(\"https://api.ssactivewear.com/v2/products/?style=06535\", auth=(username, password))\n",
    "\n",
    "# response5 = requests.get(\"https://www.ssactivewear.com/Images/Color/17130_f_fm.jpg\")\n",
    "img_data = requests.get(\"https://www.ssactivewear.com/Images/Color/17130_f_fl.jpg\").content\n",
    "# with open('image_name.jpg', 'wb') as handler:\n",
    "#     handler.write(img_data)\n",
    "img_data = cv2.imdecode(np.asarray(bytearray(img_data)), cv2.IMREAD_COLOR)\n",
    "aqua = image.Image(img_data, 'Image 1')\n",
    "aqua.im_show()\n",
    "plt.show()\n",
    "\n",
    "aqua.image[aqua.image > 253] = 0\n",
    "aqua.im_show()\n"
   ]
  },
  {
   "cell_type": "code",
   "execution_count": 6,
   "metadata": {
    "tags": []
   },
   "outputs": [
    {
     "output_type": "stream",
     "name": "stdout",
     "text": [
      "b'[\\r\\n  {\\r\\n    \"styleID\": 16,\\r\\n    \"partNumber\": \"00060\",\\r\\n    \"brandName\": \"Gildan\",\\r\\n    \"styleName\": \"5000\",\\r\\n    \"uniqueStyleName\": \"5000\",\\r\\n    \"title\": \"Heavy Cotton\\xe2\\x84\\xa2 T-Shirt\",\\r\\n    \"description\": \"<ul><li>5.3 oz.(US) 8.8 oz.(CA), 100% preshrunk cotton</li><li>Heather colors, Graphite Heather, Safety colors,Tweed, Blackberry, Lilac, Midnight, Neon colors &amp; Sunset:&nbsp;50/50 cotton/polyester</li><li>Antique colors &amp; Sport Grey :&nbsp;90/10&nbsp;cotton/polyester</li><li>Ash Grey: 99/1 cotton/polyester</li><li>Classic fit</li><li>Seamless double needle 7/8&quot; collar</li><li>Taped neck and shoulders</li><li>Double needle sleeve and bottom hems</li><li>Quarter-turned to eliminate center crease</li><li>Safety Green: Compliant with ANSI / ISEA 107</li><li>Tear away label</li></ul>\",\\r\\n    \"baseCategory\": \"T-Shirts\",\\r\\n    \"categories\": \"8,21,40,57,71,72,79,87,90,97,115,148,158,159,180,184,234,269,304,329,340,341\",\\r\\n    \"catalogPageNumber\": \"260\",\\r\\n    \"newStyle\": false,\\r\\n    \"comparableGroup\": 2,\\r\\n    \"companionGroup\": 3,\\r\\n    \"brandImage\": \"Images/Brand/35_fm.jpg\",\\r\\n    \"styleImage\": \"Images/Style/16_fm.jpg\",\\r\\n    \"prop65Chemicals\": \"\",\\r\\n    \"noeRetailing\": false,\\r\\n    \"boxRequired\": false\\r\\n  }\\r\\n]'\n"
     ]
    }
   ],
   "source": [
    "# Begin SS Activewear API Call\n",
    "username = '493639'\n",
    "password = 'ade20a10-7d2d-4003-a296-e8d4939a70c5'\n",
    "\n",
    "\n",
    "data = requests.get( 'https://api.ssactivewear.com/v2/styles/gildan 5000', auth=(username, password))\n",
    "print(data.content)"
   ]
  },
  {
   "cell_type": "code",
   "execution_count": 7,
   "metadata": {},
   "outputs": [
    {
     "output_type": "display_data",
     "data": {
      "text/plain": "Canvas(toolbar=Toolbar(toolitems=[('Home', 'Reset original view', 'home', 'home'), ('Back', 'Back to previous …",
      "application/vnd.jupyter.widget-view+json": {
       "version_major": 2,
       "version_minor": 0,
       "model_id": "0e419f0c96364eaab8b68c0baf6a4bf4"
      }
     },
     "metadata": {}
    }
   ],
   "source": [
    "# Create rotated facemask image\n",
    "logo2 = image.Image.from_file('LogoColor.png', \"Color Logo\", color_model='unchanged')\n",
    "logo2.im_show()\n",
    "logo2_rotated = logo2.image\n",
    "logo2_rotated = imutils.rotate_bound(logo2_rotated, 30)\n",
    "logo2 = image.Image(logo2_rotated, \"Rotated Image\", color_model='unchanged')\n",
    "logo2.im_show()\n"
   ]
  }
 ]
}